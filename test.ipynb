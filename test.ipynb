{
 "cells": [
  {
   "cell_type": "code",
   "execution_count": 9,
   "metadata": {},
   "outputs": [
    {
     "name": "stdout",
     "output_type": "stream",
     "text": [
      "[5, 4, 3, 2, 1]\n"
     ]
    }
   ],
   "source": [
    "#1 write a reversed list\n",
    "#A)\n",
    "\n",
    "l = [1,2,3,4,5]\n",
    "\n",
    "def reversed(list): \n",
    "\n",
    "    i = -1\n",
    "    reversed = []\n",
    "\n",
    "\n",
    "    for e in range (len(list)):\n",
    "\n",
    "        reversed.append(list[i])\n",
    "        i = i - 1\n",
    "\n",
    "    return reversed\n",
    "\n",
    "\n",
    "print(reversed(l))\n",
    "\n",
    "\n",
    "\n"
   ]
  },
  {
   "cell_type": "code",
   "execution_count": 18,
   "metadata": {},
   "outputs": [
    {
     "name": "stdout",
     "output_type": "stream",
     "text": [
      "{'one': 1, 'two': 2, 'ten': 10, 'three': 3, 'four': 4, 'five': 5}\n"
     ]
    }
   ],
   "source": [
    "#B)\n",
    "lot = [(\"one\", 1), (\"two\", 2), (\"ten\", 10), (\"three\", 3), (\"four\",4), (\"five\", 5)]\n",
    "\n",
    "def list_to_dict(list): \n",
    "\n",
    "    new_dict = {}\n",
    "\n",
    "    for e in list:\n",
    "        new_dict.setdefault(e[0], e[1])\n",
    "\n",
    "\n",
    "    return new_dict\n",
    "\n",
    "print(list_to_dict(lot))\n",
    "\n"
   ]
  },
  {
   "cell_type": "code",
   "execution_count": 19,
   "metadata": {},
   "outputs": [
    {
     "name": "stdout",
     "output_type": "stream",
     "text": [
      "10\n"
     ]
    }
   ],
   "source": [
    "#C)\n",
    "\n",
    "new_dict = (list_to_dict(lot))\n",
    "\n",
    "def max_value_key(dict):\n",
    "\n",
    "    max_value = 0\n",
    "    dict_values = dict.values()\n",
    "\n",
    "    for e in dict_values:\n",
    "        if e > max_value:\n",
    "            max_value = e\n",
    "\n",
    "    return max_value\n",
    "\n",
    "print(max_value_key(new_dict))\n",
    "\n",
    "\n",
    "\n"
   ]
  },
  {
   "cell_type": "code",
   "execution_count": 20,
   "metadata": {},
   "outputs": [
    {
     "name": "stdout",
     "output_type": "stream",
     "text": [
      "[2, -5, 12, 20]\n",
      "66\n",
      "-20\n",
      "[12, 45, -10]\n"
     ]
    }
   ],
   "source": [
    "#D)\n",
    "\n",
    "list_of_values = [1,2,-5,3,12,20,45,13,-10,21]\n",
    "\n",
    "#what will be the outputs of these calls?\n",
    "\n",
    "print(list_of_values[1:3] +  list_of_values[4:6])\n",
    "#[2,-5,12,20] \n",
    "print(list_of_values[-1] +  list_of_values[6])\n",
    "#21 + 45 = 66\n",
    "print(list_of_values[8] * 2)\n",
    "#-10 * 2 = -20\n",
    "print(list_of_values[4::2])\n",
    "#[12,45,-10]\n",
    "\n"
   ]
  },
  {
   "cell_type": "code",
   "execution_count": 28,
   "metadata": {},
   "outputs": [
    {
     "data": {
      "text/plain": [
       "[[], [1.0, 2.0, 3.0], [4.0, 5.0, 6.0], [7.0, 8.0, 9.0]]"
      ]
     },
     "execution_count": 28,
     "metadata": {},
     "output_type": "execute_result"
    }
   ],
   "source": [
    "#Q2\n",
    "\n",
    "def a2(path):\n",
    "    rows = []\n",
    "    with open(path) as file:\n",
    "        lines = file.readlines()\n",
    "        for line in lines:\n",
    "            row = []\n",
    "            values = line.strip().split(\",\")\n",
    "            for value in values:\n",
    "                try:\n",
    "                    num = float(value)\n",
    "                    row.append(num)\n",
    "                except ValueError:\n",
    "                    continue\n",
    "            rows.append(row)\n",
    "    return rows\n",
    "\n",
    "file = open(\"data2.txt\", \"r\")\n",
    "\n",
    "a2('data2.txt')\n",
    "\n",
    "\n"
   ]
  },
  {
   "cell_type": "code",
   "execution_count": null,
   "metadata": {},
   "outputs": [],
   "source": []
  }
 ],
 "metadata": {
  "kernelspec": {
   "display_name": "Python 3",
   "language": "python",
   "name": "python3"
  },
  "language_info": {
   "codemirror_mode": {
    "name": "ipython",
    "version": 3
   },
   "file_extension": ".py",
   "mimetype": "text/x-python",
   "name": "python",
   "nbconvert_exporter": "python",
   "pygments_lexer": "ipython3",
   "version": "3.10.0"
  }
 },
 "nbformat": 4,
 "nbformat_minor": 2
}
