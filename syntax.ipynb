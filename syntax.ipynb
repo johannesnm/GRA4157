{
 "cells": [
  {
   "cell_type": "markdown",
   "metadata": {},
   "source": [
    "# Notebook for syntax needed in midterm sections"
   ]
  },
  {
   "cell_type": "markdown",
   "metadata": {},
   "source": [
    "### Part 1 basic python - Lists and dictionaries"
   ]
  },
  {
   "cell_type": "markdown",
   "metadata": {},
   "source": [
    "### Midterm 2022"
   ]
  },
  {
   "cell_type": "code",
   "execution_count": 1,
   "metadata": {},
   "outputs": [
    {
     "name": "stdout",
     "output_type": "stream",
     "text": [
      "271\n"
     ]
    }
   ],
   "source": [
    "# A)\n",
    "# finding the greatest value in a list\n",
    "exList = [1,3,271,-2,64,7,8]\n",
    "\n",
    "def findGreatest(list):\n",
    "    highestNum = 0\n",
    "\n",
    "    for e in list:\n",
    "        if e > highestNum:\n",
    "            highestNum = e\n",
    "\n",
    "    return highestNum\n",
    "\n",
    "print(findGreatest(exList))\n",
    "\n"
   ]
  },
  {
   "cell_type": "code",
   "execution_count": 50,
   "metadata": {},
   "outputs": [
    {
     "name": "stdout",
     "output_type": "stream",
     "text": [
      "{'Oslo': 2.5, 'London': 12.3, 'Paris': 11.0, 'Berlin': 9.0}\n"
     ]
    }
   ],
   "source": [
    "#updated dict that corrects the mistake of berlin being the value and not key.\n",
    "d_new = {'Oslo': 2.5, 'London': 12.3, 'Paris': 11.0, 'Berlin': 9.0}\n",
    "\n",
    "print(d_new)\n",
    "\n"
   ]
  },
  {
   "cell_type": "markdown",
   "metadata": {},
   "source": [
    "### Midterm 2023"
   ]
  },
  {
   "cell_type": "code",
   "execution_count": 2,
   "metadata": {},
   "outputs": [
    {
     "name": "stdout",
     "output_type": "stream",
     "text": [
      "[5, 4, 3, 2, 1]\n"
     ]
    }
   ],
   "source": [
    "#A)\n",
    "#write a function named reversed list, the function should accept a list as an input and return a new list where the list has been reversed\n",
    "\n",
    "l = [1,2,3,4,5]\n",
    "\n",
    "def reversed_list(listA):\n",
    "    i = -1\n",
    "    reversed = []\n",
    "\n",
    "    for e in listA:\n",
    "\n",
    "        reversed.append(listA[i])\n",
    "        i = i - 1\n",
    "\n",
    "    return reversed\n",
    "\n",
    "print(reversed_list(l))"
   ]
  },
  {
   "cell_type": "code",
   "execution_count": 3,
   "metadata": {},
   "outputs": [
    {
     "name": "stdout",
     "output_type": "stream",
     "text": [
      "{1: 2, 2: 4, 3: 6}\n"
     ]
    }
   ],
   "source": [
    "\n",
    "#Q1 B 2023\n",
    "\n",
    "listOfTuples = [(1,2), (2,4), (3,6)]\n",
    "\n",
    "def list_to_dict(list):\n",
    "    dict =  {}\n",
    "\n",
    "    for e in list:\n",
    "        dict.setdefault(e[0],e[1])\n",
    "\n",
    "    return dict\n",
    "\n",
    "print(list_to_dict(listOfTuples))"
   ]
  },
  {
   "cell_type": "code",
   "execution_count": 4,
   "metadata": {},
   "outputs": [
    {
     "name": "stdout",
     "output_type": "stream",
     "text": [
      "700\n"
     ]
    }
   ],
   "source": [
    "#Q1 C) 2023\n",
    "\n",
    "dictOfValues = {1:37, 2:27, 3:-64,4:700} \n",
    "\n",
    "def max_value_key(dict):\n",
    "\n",
    "    values = dict.values()\n",
    "    greatestV = 0\n",
    "\n",
    "    for e in values:\n",
    "\n",
    "        if e > greatestV:\n",
    "            greatestV = e\n",
    "\n",
    "    return greatestV\n",
    "\n",
    "print(max_value_key(dictOfValues))\n"
   ]
  },
  {
   "cell_type": "markdown",
   "metadata": {},
   "source": [
    "#### Indexing 2022 and 2023"
   ]
  },
  {
   "cell_type": "code",
   "execution_count": 5,
   "metadata": {},
   "outputs": [
    {
     "name": "stdout",
     "output_type": "stream",
     "text": [
      "[2, -5, 12, 20]\n",
      "66\n",
      "-20\n",
      "[12, 45, -10]\n",
      "2022:\n",
      "[2, -5, 12, 20]\n",
      "48\n",
      "-20\n",
      "[-10, 21, -10, 21]\n"
     ]
    }
   ],
   "source": [
    "\n",
    "l = [1,2,-5,3,12,20,45,13,-10,21]\n",
    "\n",
    "#2023:\n",
    "#What will be the outputs of the following calls?\n",
    "\n",
    "print(l[1:3]+ l[4:6])\n",
    "#[2,-5] + [12,20] = [2,-5,12,20]\n",
    "\n",
    "print(l[-1] + l[6])\n",
    "#21+45 = 66\n",
    "\n",
    "print(l[8] * 2)\n",
    "#-10*2 = -20\n",
    "\n",
    "print(l[4::2])\n",
    "#[12,45-10]\n",
    "\n",
    "#2022\n",
    "print(\"2022:\")\n",
    "print(l[1:3] + l[4:6])\n",
    "#[2,-5,12,20]\n",
    "\n",
    "print(l[3] + l[6])\n",
    "# 3 + 45 = 48\n",
    "\n",
    "print(2*l[8])\n",
    "#-10 * 2 = -20\n",
    "\n",
    "print(2*l[8:])\n",
    "#[-10,21,-10,21]\n"
   ]
  },
  {
   "cell_type": "markdown",
   "metadata": {},
   "source": [
    "### Syntax focus part 1:"
   ]
  },
  {
   "cell_type": "code",
   "execution_count": 6,
   "metadata": {},
   "outputs": [],
   "source": [
    "### important syntax dicts and lists: \n",
    "# setDefault, creates a new element in a dict\n",
    "# .values() for vals in a dict returns a list of all the values\n",
    "# .keys() for keys in a dict returns a list of all the keys"
   ]
  },
  {
   "cell_type": "code",
   "execution_count": null,
   "metadata": {},
   "outputs": [],
   "source": []
  },
  {
   "cell_type": "markdown",
   "metadata": {},
   "source": [
    "### Part 2 reading and writing files"
   ]
  },
  {
   "cell_type": "markdown",
   "metadata": {},
   "source": [
    "# Q2 2022\n",
    "###### a) Read the file using pure python and for each row, put all numbers found in the row in a list. If no number is found on a line, no action is required. Call the lists row1, row2 and row3. As an example, row 1 should end up as [1,2,3]\n",
    "###### b) Read the file using pure python and put numbers in each column in three lists. Call the lists col1, col2 and col3. If no number is found on a line, no action is required. As an example, col 1 should end up as [1,2,5]\n",
    "###### c) Write a program that writes the 3x3 matrix to a file ”out.csv”. The files hould have the header ”a,b,c” and the numbers in each row of the matrix should be separated by commas. You can assume that you have access to the rows and column lists from a) and b).\n"
   ]
  },
  {
   "cell_type": "code",
   "execution_count": 7,
   "metadata": {},
   "outputs": [
    {
     "name": "stdout",
     "output_type": "stream",
     "text": [
      "[['1', '2', '3'], ['2', '3', '4'], ['5', '6', '7']]\n"
     ]
    }
   ],
   "source": [
    "#open and read the datafile\n",
    "data = open(\"data1.txt\", \"r\")\n",
    "\n",
    "#read out the first two lines as they do not contain any nums\n",
    "data.readline()\n",
    "data.readline()\n",
    "\n",
    "rows = []\n",
    "\n",
    "for line in data:\n",
    "    words = line.split()\n",
    "    numbers = words[-3:] \n",
    "    rows.append(numbers)\n",
    "\n",
    "print(rows)\n"
   ]
  },
  {
   "cell_type": "code",
   "execution_count": 8,
   "metadata": {},
   "outputs": [
    {
     "name": "stdout",
     "output_type": "stream",
     "text": [
      "['1', '2', '5'] ['2', '3', '6'] ['3', '4', '7']\n"
     ]
    }
   ],
   "source": [
    "#B)\n",
    "\n",
    "#open and read the datafile\n",
    "data = open(\"data1.txt\", \"r\")\n",
    "\n",
    "#read out the first two lines as they do not contain any nums\n",
    "data.readline()\n",
    "data.readline()\n",
    "\n",
    "col1 = []\n",
    "col2 = []\n",
    "col3 = []\n",
    "\n",
    "for line in data:\n",
    "    words = line.split()\n",
    "    col1nums = words[-3] \n",
    "    col2nums = words[-2] \n",
    "    col3nums = words[-1] \n",
    "    col1.append(col1nums)\n",
    "    col2.append(col2nums)\n",
    "    col3.append(col3nums)\n",
    "\n",
    "\n",
    "\n",
    "print(col1,col2,col3)\n"
   ]
  },
  {
   "cell_type": "code",
   "execution_count": 9,
   "metadata": {},
   "outputs": [],
   "source": [
    "#C)\n",
    "import csv\n",
    "\n",
    "# Define the 3x3 matrix (assuming you have the rows and columns from previous parts)\n",
    "matrix = [\n",
    "    [1, 2, 3],\n",
    "    [4, 5, 6],\n",
    "    [7, 8, 9]\n",
    "]\n",
    "\n",
    "# Write the matrix to out.csv with the header 'a,b,c'\n",
    "with open('out.csv', mode='w', newline='') as file:\n",
    "    writer = csv.writer(file)\n",
    "    \n",
    "    # Write the header\n",
    "    writer.writerow(['a', 'b', 'c'])\n",
    "    \n",
    "    # Write the matrix rows\n",
    "    writer.writerows(matrix)\n"
   ]
  },
  {
   "cell_type": "markdown",
   "metadata": {},
   "source": [
    "### *INSERT Q2 2023 HERE*"
   ]
  },
  {
   "cell_type": "code",
   "execution_count": null,
   "metadata": {},
   "outputs": [],
   "source": [
    "#Q2 A)\n",
    "\n",
    "def a2(path):\n",
    "    rows = []\n",
    "    with open(path) as file:\n",
    "        lines = file.readlines()\n",
    "        for line in lines:\n",
    "            row = []\n",
    "            values = line.strip().split(\",\")\n",
    "            for value in values:\n",
    "                try:\n",
    "                    num = float(value)\n",
    "                    row.append(num)\n",
    "                except ValueError:\n",
    "                    continue\n",
    "            rows.append(row)\n",
    "    return rows\n",
    "\n",
    "file = open(\"data2.txt\", \"r\")\n",
    "\n",
    "a2('data2.txt')\n",
    "\n"
   ]
  },
  {
   "cell_type": "markdown",
   "metadata": {},
   "source": [
    "### Syntax focus part 2"
   ]
  },
  {
   "cell_type": "code",
   "execution_count": 10,
   "metadata": {},
   "outputs": [],
   "source": [
    "#### Syntax to remember Q2:\n",
    "##### to read a file: data = open(\"data1.txt\", \"r\")\n",
    "##### to read out a line: data.readline()\n",
    "\n",
    "#### to split a line:\n",
    "##### for line in data:\n",
    "##### words = line.split()\n",
    "\n",
    "# To export csv:\n",
    "#  with open('out.csv', mode='w', newline='') as file:\n",
    "    #writer = csv.writer(file)\n",
    "\n",
    "#write a row/header:\n",
    "    #writer.writerow(['a', 'b', 'c'])\n",
    "\n",
    "#write a matrix to a row:\n",
    " # writer.writerows(matrix)\n"
   ]
  },
  {
   "cell_type": "markdown",
   "metadata": {},
   "source": [
    "### Part 3 Numpy and Pandas "
   ]
  },
  {
   "cell_type": "markdown",
   "metadata": {},
   "source": [
    "### midterm 2023"
   ]
  },
  {
   "cell_type": "code",
   "execution_count": 11,
   "metadata": {},
   "outputs": [
    {
     "name": "stdout",
     "output_type": "stream",
     "text": [
      "[[1, 2, 4], [1, 5, 9], [2, 9, 9]]\n",
      "[[1 2 4]\n",
      " [1 5 9]\n",
      " [2 9 9]]\n",
      "[[ 9  3  6]\n",
      " [ 6  9 12]\n",
      " [ 3 13 16]]\n"
     ]
    }
   ],
   "source": [
    "\"Midterm 2023\"\n",
    "import numpy as np\n",
    "\n",
    "#A)\n",
    "matrixA = [[1,2,4], [1,5,9],[2,9,9]]\n",
    "MatrixB = [[8,1,2], [5,4,3],[1,4,7]]\n",
    "\n",
    "npA = np.array(matrixA)\n",
    "npB = np.array(MatrixB)\n",
    "\n",
    "print(matrixA)\n",
    "print(npA)\n",
    "\n",
    "#B) \n",
    "def add(a,b):\n",
    "    c = a + b\n",
    "\n",
    "    print(c)\n",
    "\n",
    "def min(a,b):\n",
    "    c = a - b\n",
    "    print(c)\n",
    "\n",
    "\n",
    "#C)\n",
    "#the == operator checks if the whole array is equal to eachother, it will return multiple false or true statements, and not just one\n",
    "#using the np.array_equal() method we return a single true/false statement, which will hold the if condition.\n",
    "\n",
    "def f(a,b):\n",
    "    if np.array_equal(a,b):\n",
    "        return a-b\n",
    "    \n",
    "    return a + b\n",
    "print(f(npA,npB))\n"
   ]
  },
  {
   "cell_type": "markdown",
   "metadata": {},
   "source": [
    "### Midterm 2022"
   ]
  },
  {
   "cell_type": "code",
   "execution_count": null,
   "metadata": {},
   "outputs": [],
   "source": [
    "#A) the > will return false/true for all values in the np array. Therefore, the condition is ambigous and will not hold.\n",
    "# we can use the np.all() method to check all the elements and return single true/false statement"
   ]
  },
  {
   "cell_type": "code",
   "execution_count": 12,
   "metadata": {},
   "outputs": [
    {
     "name": "stdout",
     "output_type": "stream",
     "text": [
      "[ 1.   0.5 -0.  -0.5 -1. ]\n"
     ]
    }
   ],
   "source": [
    "#B)\n",
    "def f(x):\n",
    "    if np.all(x) > 0:\n",
    "        return x\n",
    "    else:\n",
    "       return -x\n",
    "\n",
    "x = np.linspace(-1,1,5)\n",
    "print(f(x))\n"
   ]
  },
  {
   "cell_type": "code",
   "execution_count": 49,
   "metadata": {},
   "outputs": [],
   "source": [
    "#C)\n",
    "\n",
    "import numpy as np\n",
    "\n",
    "# Assuming t and p are already numpy arrays\n",
    "\n",
    "# Step 1: Compute the differences between consecutive time values\n",
    "dt = np.diff(t)\n",
    "\n",
    "# Step 2: Compute the differences between consecutive price values\n",
    "dp = np.diff(p)\n",
    "\n",
    "# Step 3: Compute the instantaneous change in price over time using element-wise division\n",
    "d = dp / dt\n",
    "\n",
    "# 'd' now contains the instantaneous changes in price over time"
   ]
  },
  {
   "cell_type": "markdown",
   "metadata": {},
   "source": [
    "### syntax focus part 3:"
   ]
  },
  {
   "cell_type": "code",
   "execution_count": 13,
   "metadata": {},
   "outputs": [],
   "source": [
    "# import numpy as np to import numpy.\n",
    "# np.array() to create a np array from a list. \n",
    "# np.all() to check if all elements in a numpy array is larger/smaller/equal to something\n",
    "# np.array(equal) to check if each element in an array is equal. \n",
    "# np.diff()? "
   ]
  },
  {
   "cell_type": "markdown",
   "metadata": {},
   "source": [
    "### Part 4: Pandas and webscraping"
   ]
  },
  {
   "cell_type": "markdown",
   "metadata": {},
   "source": [
    "### Midterm 2022"
   ]
  },
  {
   "cell_type": "code",
   "execution_count": 14,
   "metadata": {},
   "outputs": [],
   "source": [
    "#A)\n",
    "import pandas as pd\n",
    "\n",
    "df = pd.read_csv(\"out.csv\")\n",
    "df\n",
    "\n",
    "#B) to get a single column (known as a series)\n",
    "a = df[\"a\"]\n",
    "b = df[\"b\"]\n",
    "c = df[\"c\"]\n",
    "\n",
    "#to do: plot a vs b"
   ]
  },
  {
   "cell_type": "code",
   "execution_count": 18,
   "metadata": {},
   "outputs": [
    {
     "name": "stdout",
     "output_type": "stream",
     "text": [
      "                  Player  Goals\n",
      "62           Jørgen Juve     33\n",
      "114      Einar Gundersen     26\n",
      "65         Harald Hennum     25\n",
      "4             John Carew     24\n",
      "172     Erling Haaland *     24\n",
      "12        Tore André Flo     23\n",
      "16   Ole Gunnar Solskjær     23\n",
      "19       Gunnar Thoresen     22\n",
      "9        Steffen Iversen     21\n",
      "15      Jan Åge Fjørtoft     20\n"
     ]
    }
   ],
   "source": [
    "#B)\n",
    "\n",
    "# 1) Read the Wikipedia page and extract the table into a DataFrame\n",
    "url = 'https://en.wikipedia.org/wiki/List_of_Norway_international_footballers'\n",
    "tables = pd.read_html(url)\n",
    "\n",
    "# Extract the second table (index 1, since counting starts from 0)\n",
    "players = tables[1]\n",
    "\n",
    "# 2) Sort the DataFrame by the 'Goals' column (reference it using the MultiIndex)\n",
    "players_sorted = players.sort_values(by=('Goals', 'Goals'), ascending=False)\n",
    "\n",
    "# Extract the top 10 players\n",
    "top_10_scorers = players_sorted[[('Player', 'Player'), ('Goals', 'Goals')]].head(10)\n",
    "\n",
    "# Rename columns for better readability\n",
    "top_10_scorers.columns = ['Player', 'Goals']\n",
    "\n",
    "# Print the top 10 goal scorers\n",
    "print(top_10_scorers)\n"
   ]
  },
  {
   "cell_type": "code",
   "execution_count": 16,
   "metadata": {},
   "outputs": [
    {
     "name": "stdout",
     "output_type": "stream",
     "text": [
      "62               Jørgen Juve\n",
      "114          Einar Gundersen\n",
      "6         Øyvind Leonhardsen\n",
      "22               Olav Nilsen\n",
      "7              Kjetil Rekdal\n",
      "8      Morten Gamst Pedersen\n",
      "0            John Arne Riise\n",
      "2               Henning Berg\n",
      "20              Gunnar Halle\n",
      "47               Åge Hareide\n",
      "110          Kjell Kaspersen\n",
      "Name: (Player, Player), dtype: object\n"
     ]
    }
   ],
   "source": [
    "#C)\n",
    "# Extract the second table (index 1, since counting starts from 0)\n",
    "players = tables[1]\n",
    "\n",
    "# 2) Sort the DataFrame by the 'Goals' column (reference it using the MultiIndex)\n",
    "players_sorted = players.sort_values(by=('Goals', 'Goals'), ascending=False)\n",
    "\n",
    "midfielders = players_sorted[players_sorted[('Pos.', 'Pos.')].str.contains('MF')]\n",
    "defenders = players_sorted[players_sorted[('Pos.', 'Pos.')].str.contains('DF')]\n",
    "Goalkeeper = players_sorted[players_sorted[('Pos.', 'Pos.')].str.contains('GK')]\n",
    "Forwards = players_sorted[players_sorted[('Pos.', 'Pos.')].str.contains('FW')]\n",
    "\n",
    "FW_2 = Forwards[('Player', 'Player')].head(2)\n",
    "MF_4 = midfielders[('Player', 'Player')].head(4)\n",
    "DF_4 = defenders[('Player', 'Player')].head(4)\n",
    "GK_1 =  Goalkeeper[('Player', 'Player')].head(1)\n",
    "\n",
    "# Concatenate the selected players into a single team DataFrame\n",
    "team = pd.concat([FW_2, MF_4, DF_4, GK_1])\n",
    "\n",
    "print(team)"
   ]
  },
  {
   "cell_type": "markdown",
   "metadata": {},
   "source": [
    "### Midterm 2022"
   ]
  },
  {
   "cell_type": "code",
   "execution_count": 21,
   "metadata": {},
   "outputs": [
    {
     "data": {
      "text/html": [
       "<div>\n",
       "<style scoped>\n",
       "    .dataframe tbody tr th:only-of-type {\n",
       "        vertical-align: middle;\n",
       "    }\n",
       "\n",
       "    .dataframe tbody tr th {\n",
       "        vertical-align: top;\n",
       "    }\n",
       "\n",
       "    .dataframe thead th {\n",
       "        text-align: right;\n",
       "    }\n",
       "</style>\n",
       "<table border=\"1\" class=\"dataframe\">\n",
       "  <thead>\n",
       "    <tr style=\"text-align: right;\">\n",
       "      <th></th>\n",
       "      <th>Rank</th>\n",
       "      <th>Title</th>\n",
       "      <th>Worldwide gross (2023 $)</th>\n",
       "      <th>Year</th>\n",
       "    </tr>\n",
       "  </thead>\n",
       "  <tbody>\n",
       "    <tr>\n",
       "      <th>0</th>\n",
       "      <td>1</td>\n",
       "      <td>Gone with the Wind</td>\n",
       "      <td>GW$4,341,000,000</td>\n",
       "      <td>1939</td>\n",
       "    </tr>\n",
       "    <tr>\n",
       "      <th>1</th>\n",
       "      <td>2</td>\n",
       "      <td>Avatar</td>\n",
       "      <td>A1$3,957,000,000</td>\n",
       "      <td>2009</td>\n",
       "    </tr>\n",
       "    <tr>\n",
       "      <th>2</th>\n",
       "      <td>3</td>\n",
       "      <td>Titanic</td>\n",
       "      <td>T$3,677,000,000</td>\n",
       "      <td>1997</td>\n",
       "    </tr>\n",
       "    <tr>\n",
       "      <th>3</th>\n",
       "      <td>4</td>\n",
       "      <td>Star Wars</td>\n",
       "      <td>$3,563,000,000</td>\n",
       "      <td>1977</td>\n",
       "    </tr>\n",
       "    <tr>\n",
       "      <th>4</th>\n",
       "      <td>5</td>\n",
       "      <td>Avengers: Endgame</td>\n",
       "      <td>AE$3,275,000,000</td>\n",
       "      <td>2019</td>\n",
       "    </tr>\n",
       "    <tr>\n",
       "      <th>5</th>\n",
       "      <td>6</td>\n",
       "      <td>The Sound of Music</td>\n",
       "      <td>$2,984,000,000</td>\n",
       "      <td>1965</td>\n",
       "    </tr>\n",
       "    <tr>\n",
       "      <th>6</th>\n",
       "      <td>7</td>\n",
       "      <td>E.T. the Extra-Terrestrial</td>\n",
       "      <td>ET$2,917,000,000</td>\n",
       "      <td>1982</td>\n",
       "    </tr>\n",
       "    <tr>\n",
       "      <th>7</th>\n",
       "      <td>8</td>\n",
       "      <td>The Ten Commandments</td>\n",
       "      <td>$2,758,000,000</td>\n",
       "      <td>1956</td>\n",
       "    </tr>\n",
       "    <tr>\n",
       "      <th>8</th>\n",
       "      <td>9</td>\n",
       "      <td>Doctor Zhivago</td>\n",
       "      <td>$2,615,000,000</td>\n",
       "      <td>1965</td>\n",
       "    </tr>\n",
       "    <tr>\n",
       "      <th>9</th>\n",
       "      <td>10</td>\n",
       "      <td>Star Wars: The Force Awakens</td>\n",
       "      <td>TFA$2,577,000,000</td>\n",
       "      <td>2015</td>\n",
       "    </tr>\n",
       "  </tbody>\n",
       "</table>\n",
       "</div>"
      ],
      "text/plain": [
       "   Rank                         Title Worldwide gross (2023 $)  Year\n",
       "0     1            Gone with the Wind         GW$4,341,000,000  1939\n",
       "1     2                        Avatar         A1$3,957,000,000  2009\n",
       "2     3                       Titanic          T$3,677,000,000  1997\n",
       "3     4                     Star Wars           $3,563,000,000  1977\n",
       "4     5             Avengers: Endgame         AE$3,275,000,000  2019\n",
       "5     6            The Sound of Music           $2,984,000,000  1965\n",
       "6     7    E.T. the Extra-Terrestrial         ET$2,917,000,000  1982\n",
       "7     8          The Ten Commandments           $2,758,000,000  1956\n",
       "8     9                Doctor Zhivago           $2,615,000,000  1965\n",
       "9    10  Star Wars: The Force Awakens        TFA$2,577,000,000  2015"
      ]
     },
     "execution_count": 21,
     "metadata": {},
     "output_type": "execute_result"
    }
   ],
   "source": [
    "\n",
    "#A)\n",
    "url = 'https://en.wikipedia.org/wiki/List_of_highest-grossing_films'\n",
    "tables = pd.read_html(url)\n",
    "movies = tables[1]\n",
    "movies\n",
    "\n"
   ]
  },
  {
   "cell_type": "code",
   "execution_count": 40,
   "metadata": {},
   "outputs": [
    {
     "name": "stdout",
     "output_type": "stream",
     "text": [
      "   Year                         Title\n",
      "4  2019             Avengers: Endgame\n",
      "9  2015  Star Wars: The Force Awakens\n",
      "1  2009                        Avatar\n",
      "2  1997                       Titanic\n",
      "6  1982    E.T. the Extra-Terrestrial\n",
      "3  1977                     Star Wars\n",
      "5  1965            The Sound of Music\n",
      "7  1956          The Ten Commandments\n",
      "0  1939            Gone with the Wind\n"
     ]
    }
   ],
   "source": [
    "\n",
    "#B)\n",
    "movies_by_gross = movies.sort_values(by=('Worldwide gross (2023 $)'), ascending=False)\n",
    "\n",
    "movies_by_year = movies_by_gross.sort_values(by=('Year'), ascending=False)\n",
    "movies_by_year_unique = movies_by_year.drop_duplicates(subset='Year', keep ='first')\n",
    "\n",
    "final = movies_by_year_unique[['Year', 'Title']]\n",
    "print(final)\n"
   ]
  },
  {
   "cell_type": "code",
   "execution_count": 47,
   "metadata": {},
   "outputs": [
    {
     "data": {
      "image/png": "[encoded data removed]",
      "text/plain": [
       "<Figure size 640x480 with 1 Axes>"
      ]
     },
     "metadata": {},
     "output_type": "display_data"
    }
   ],
   "source": [
    "#C)\n",
    "\n",
    "import pandas as pd\n",
    "import matplotlib.pyplot as plt\n",
    "\n",
    "# Step 1: Convert the 'Worldwide gross' column to strings, then remove non-numeric characters\n",
    "movies['Worldwide gross (2023 $)'] = movies['Worldwide gross (2023 $)'].astype(str).str.replace(r'[^0-9]', '', regex=True)\n",
    "\n",
    "# Step 2: Convert the cleaned string data to floats to handle large numbers\n",
    "movies['Worldwide gross (2023 $)'] = movies['Worldwide gross (2023 $)'].astype(float)\n",
    "\n",
    "# Step 3: Plot a scatter plot with 'Year' on the x-axis and 'Worldwide Gross' on the y-axis\n",
    "plt.scatter(movies['Year'], movies['Worldwide gross (2023 $)'])\n",
    "plt.xlabel('Year')\n",
    "plt.ylabel('Worldwide Gross (2023 $)')\n",
    "plt.title('Scatter plot of Year vs Worldwide Gross (2023 $)')\n",
    "plt.show()\n"
   ]
  },
  {
   "cell_type": "code",
   "execution_count": null,
   "metadata": {},
   "outputs": [],
   "source": []
  }
 ],
 "metadata": {
  "kernelspec": {
   "display_name": "Python 3",
   "language": "python",
   "name": "python3"
  },
  "language_info": {
   "codemirror_mode": {
    "name": "ipython",
    "version": 3
   },
   "file_extension": ".py",
   "mimetype": "text/x-python",
   "name": "python",
   "nbconvert_exporter": "python",
   "pygments_lexer": "ipython3",
   "version": "3.10.0"
  }
 },
 "nbformat": 4,
 "nbformat_minor": 2
}
